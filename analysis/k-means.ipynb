{
 "cells": [
  {
   "cell_type": "code",
   "execution_count": null,
   "id": "b5db5ba9",
   "metadata": {},
   "outputs": [],
   "source": [
    "from sklearn.cluster import KMeans\n",
    "import tensorflow as tf\n",
    "import os\n",
    "import numpy as np\n",
    "import matplotlib.pyplot as plt\n",
    "import pandas as pd"
   ]
  },
  {
   "cell_type": "code",
   "execution_count": null,
   "id": "b85caf42",
   "metadata": {},
   "outputs": [],
   "source": [
    "target_shape = (64,64)\n",
    "photo_dir = r\"F:/Research/DAS/event_detection_dataset/all/\"\n",
    "photos = os.listdir(photo_dir)\n",
    "photos[:3]"
   ]
  },
  {
   "cell_type": "code",
   "execution_count": null,
   "id": "3c281b07",
   "metadata": {},
   "outputs": [],
   "source": [
    "ex = np.load(r\"F:\\Research\\DAS\\kmeans_numpy\\UTC190423182409_0-2sec.npy\")"
   ]
  },
  {
   "cell_type": "code",
   "execution_count": null,
   "id": "80927830",
   "metadata": {},
   "outputs": [],
   "source": [
    "array_dir = r\"F:\\Research\\DAS\\kmeans_numpy/subset/\"\n",
    "arrays = os.listdir(array_dir)\n",
    "len_arrays = len(arrays)\n",
    "width_arrays = ex.shape[0] * ex.shape[1]\n",
    "data_len = 150\n",
    "data = np.zeros((data_len, width_arrays))"
   ]
  },
  {
   "cell_type": "code",
   "execution_count": null,
   "id": "b94dd298",
   "metadata": {},
   "outputs": [],
   "source": [
    "i = 0\n",
    "file = 0\n",
    "event = []\n",
    "arrays_used = []\n",
    "while i < data_len:\n",
    "    try:\n",
    "        data[i,:] = np.load(array_dir + arrays[file]).flatten()\n",
    "        i+=1\n",
    "        file += 1\n",
    "        if 'event' in arrays[file]:\n",
    "            event.append('event')\n",
    "        else:\n",
    "            event.append('no_event')\n",
    "        arrays_used.append(arrays[file])\n",
    "    except ValueError:\n",
    "        file+=1\n",
    "        pass\n",
    "        "
   ]
  },
  {
   "cell_type": "code",
   "execution_count": null,
   "id": "a5de2669",
   "metadata": {},
   "outputs": [],
   "source": [
    "data.shape"
   ]
  },
  {
   "cell_type": "code",
   "execution_count": null,
   "id": "c7f4a4f2",
   "metadata": {},
   "outputs": [],
   "source": [
    "n=2\n",
    "kmeans = KMeans(n_clusters=n,init='random')\n",
    "kmeans.fit(data)\n",
    "Z = kmeans.predict(data)"
   ]
  },
  {
   "cell_type": "code",
   "execution_count": null,
   "id": "25a666e6",
   "metadata": {},
   "outputs": [],
   "source": [
    "import pandas as pd\n",
    "out = pd.DataFrame({'array':arrays_used, 'label':kmeans.labels_})\n",
    "# out.to_csv(r'out.csv', index=False)"
   ]
  },
  {
   "cell_type": "code",
   "execution_count": null,
   "id": "5a1dd29d",
   "metadata": {},
   "outputs": [],
   "source": [
    "# out = pd.read_csv(r'out.csv')"
   ]
  },
  {
   "cell_type": "code",
   "execution_count": null,
   "id": "210c8f9e",
   "metadata": {},
   "outputs": [],
   "source": [
    "out['event'] = out['array'].apply(lambda x: \"event\" if \"event\" in x else \"no_event\")"
   ]
  },
  {
   "cell_type": "code",
   "execution_count": null,
   "id": "db50df01",
   "metadata": {},
   "outputs": [],
   "source": [
    "out.groupby(['event']).median()"
   ]
  },
  {
   "cell_type": "code",
   "execution_count": null,
   "id": "bce8ec2b",
   "metadata": {},
   "outputs": [],
   "source": [
    "plt.hist(out['label'][out['event']==\"event\"])"
   ]
  },
  {
   "cell_type": "code",
   "execution_count": null,
   "id": "e81e2e96",
   "metadata": {},
   "outputs": [],
   "source": []
  }
 ],
 "metadata": {
  "kernelspec": {
   "display_name": "Python [conda env:das-ml] *",
   "language": "python",
   "name": "conda-env-das-ml-py"
  },
  "language_info": {
   "codemirror_mode": {
    "name": "ipython",
    "version": 3
   },
   "file_extension": ".py",
   "mimetype": "text/x-python",
   "name": "python",
   "nbconvert_exporter": "python",
   "pygments_lexer": "ipython3",
   "version": "3.9.12"
  }
 },
 "nbformat": 4,
 "nbformat_minor": 5
}
